{
 "cells": [
  {
   "cell_type": "markdown",
   "metadata": {},
   "source": [
    "# IMPORTING ALL THE LIBRARIES"
   ]
  },
  {
   "cell_type": "code",
   "execution_count": 1,
   "metadata": {},
   "outputs": [],
   "source": [
    "from selenium import webdriver\n",
    "from selenium.webdriver.support.select import Select\n",
    "import pandas as pd\n",
    "from selenium.webdriver.common.keys import Keys\n",
    "from selenium.common.exceptions import NoSuchElementException\n",
    "from selenium.webdriver.common.by import By\n",
    "import time\n",
    "from selenium.common.exceptions import StaleElementReferenceException"
   ]
  },
  {
   "cell_type": "code",
   "execution_count": 164,
   "metadata": {},
   "outputs": [],
   "source": [
    "driver=webdriver.Chrome(executable_path=\"C:\\chromedriver\")"
   ]
  },
  {
   "cell_type": "code",
   "execution_count": 165,
   "metadata": {},
   "outputs": [],
   "source": [
    "driver.get(\"https://www.mahindrafirstchoice.com/\")"
   ]
  },
  {
   "cell_type": "code",
   "execution_count": 166,
   "metadata": {},
   "outputs": [],
   "source": [
    "delhi=driver.find_elements_by_xpath(\"//*[@id='select_your_city_modal']/div/div/div/ul/li[2]/a\")"
   ]
  },
  {
   "cell_type": "code",
   "execution_count": 167,
   "metadata": {},
   "outputs": [],
   "source": [
    "delhi[0].click()"
   ]
  },
  {
   "cell_type": "code",
   "execution_count": 168,
   "metadata": {},
   "outputs": [],
   "source": [
    "allbuys=driver.find_element_by_xpath('//*[@id=\"wrapperid\"]/div[2]/nav[2]/div/ul/li[1]')"
   ]
  },
  {
   "cell_type": "code",
   "execution_count": 169,
   "metadata": {},
   "outputs": [],
   "source": [
    "allbuys.click()"
   ]
  },
  {
   "cell_type": "code",
   "execution_count": 170,
   "metadata": {},
   "outputs": [],
   "source": [
    "allcars=driver.find_element_by_xpath('//*[@id=\"wrapperid\"]/div[2]/nav[2]/div/ul/li[1]/div/a[2]')"
   ]
  },
  {
   "cell_type": "code",
   "execution_count": 171,
   "metadata": {},
   "outputs": [],
   "source": [
    "newlink=allcars.get_attribute('href')"
   ]
  },
  {
   "cell_type": "code",
   "execution_count": 172,
   "metadata": {},
   "outputs": [
    {
     "name": "stdout",
     "output_type": "stream",
     "text": [
      "https://www.mahindrafirstchoice.com/buy/used-cars/delhi\n"
     ]
    }
   ],
   "source": [
    "print(newlink)"
   ]
  },
  {
   "cell_type": "code",
   "execution_count": 173,
   "metadata": {},
   "outputs": [],
   "source": [
    "driver.get('https://www.mahindrafirstchoice.com/buy/used-cars/delhi')"
   ]
  },
  {
   "cell_type": "code",
   "execution_count": null,
   "metadata": {},
   "outputs": [],
   "source": [
    "'''\n",
    "    1. Year of Car (like 2014 )\n",
    "    2. Make of car (like Maruti )\n",
    "    3. Model- (like RITZ LXI BS IV)\n",
    "    4. Price of car\n",
    "    5. Location of car - like Delhi, Ghaziabad\n",
    "    6. Kilometers \n",
    "    7. Diesel/Petrol\n",
    "    8. Body-type: like Hatchback, Sedan, SUV\n",
    "    9. Owner- like 1st owner\n",
    "'''"
   ]
  },
  {
   "cell_type": "markdown",
   "metadata": {},
   "source": [
    "# GOING TILL THE END OF THE PAGE"
   ]
  },
  {
   "cell_type": "code",
   "execution_count": 175,
   "metadata": {},
   "outputs": [
    {
     "name": "stdout",
     "output_type": "stream",
     "text": [
      "THIS MUCH HEIGHT COMPLETED 8314\n",
      "THIS MUCH HEIGHT COMPLETED 11414\n",
      "THIS MUCH HEIGHT COMPLETED 14514\n",
      "THIS MUCH HEIGHT COMPLETED 17614\n",
      "THIS MUCH HEIGHT COMPLETED 20714\n",
      "THIS MUCH HEIGHT COMPLETED 23814\n",
      "THIS MUCH HEIGHT COMPLETED 26914\n",
      "THIS MUCH HEIGHT COMPLETED 30014\n",
      "THIS MUCH HEIGHT COMPLETED 33114\n",
      "THIS MUCH HEIGHT COMPLETED 36214\n",
      "THIS MUCH HEIGHT COMPLETED 39314\n",
      "THIS MUCH HEIGHT COMPLETED 42414\n",
      "THIS MUCH HEIGHT COMPLETED 45514\n",
      "THIS MUCH HEIGHT COMPLETED 48614\n",
      "THIS MUCH HEIGHT COMPLETED 51714\n",
      "THIS MUCH HEIGHT COMPLETED 54814\n",
      "THIS MUCH HEIGHT COMPLETED 57914\n",
      "THIS MUCH HEIGHT COMPLETED 61014\n",
      "THIS MUCH HEIGHT COMPLETED 64114\n",
      "THIS MUCH HEIGHT COMPLETED 67214\n",
      "THIS MUCH HEIGHT COMPLETED 70314\n",
      "THIS MUCH HEIGHT COMPLETED 73414\n",
      "THIS MUCH HEIGHT COMPLETED 76514\n",
      "THIS MUCH HEIGHT COMPLETED 79614\n",
      "THIS MUCH HEIGHT COMPLETED 82714\n",
      "THIS MUCH HEIGHT COMPLETED 85814\n",
      "THIS MUCH HEIGHT COMPLETED 88914\n",
      "THIS MUCH HEIGHT COMPLETED 92014\n",
      "THIS MUCH HEIGHT COMPLETED 95114\n",
      "THIS MUCH HEIGHT COMPLETED 98214\n",
      "THIS MUCH HEIGHT COMPLETED 101314\n",
      "THIS MUCH HEIGHT COMPLETED 104414\n",
      "THIS MUCH HEIGHT COMPLETED 107514\n",
      "THIS MUCH HEIGHT COMPLETED 110614\n",
      "THIS MUCH HEIGHT COMPLETED 113714\n",
      "THIS MUCH HEIGHT COMPLETED 116814\n",
      "THIS MUCH HEIGHT COMPLETED 119914\n",
      "THIS MUCH HEIGHT COMPLETED 123014\n",
      "THIS MUCH HEIGHT COMPLETED 126114\n",
      "THIS MUCH HEIGHT COMPLETED 129214\n",
      "THIS MUCH HEIGHT COMPLETED 132314\n",
      "THIS MUCH HEIGHT COMPLETED 135414\n",
      "THIS MUCH HEIGHT COMPLETED 138514\n",
      "THIS MUCH HEIGHT COMPLETED 141614\n",
      "THIS MUCH HEIGHT COMPLETED 144714\n",
      "THIS MUCH HEIGHT COMPLETED 147814\n",
      "THIS MUCH HEIGHT COMPLETED 150914\n",
      "THIS MUCH HEIGHT COMPLETED 154014\n",
      "THIS MUCH HEIGHT COMPLETED 157114\n",
      "THIS MUCH HEIGHT COMPLETED 160214\n",
      "THIS MUCH HEIGHT COMPLETED 163314\n",
      "THIS MUCH HEIGHT COMPLETED 166414\n",
      "THIS MUCH HEIGHT COMPLETED 169514\n",
      "THIS MUCH HEIGHT COMPLETED 172614\n",
      "THIS MUCH HEIGHT COMPLETED 173854\n",
      "THIS MUCH HEIGHT COMPLETED 173854\n",
      "Completed\n"
     ]
    }
   ],
   "source": [
    "last_height = driver.execute_script(\"return document.body.scrollHeight\")\n",
    "while True:\n",
    "    driver.execute_script(\"window.scrollTo(0, document.body.scrollHeight);\")\n",
    "    time.sleep(6)\n",
    "    new_height = driver.execute_script(\"return document.body.scrollHeight\")\n",
    "    print('THIS MUCH HEIGHT COMPLETED'+' '+str(new_height))\n",
    "    if new_height == last_height:\n",
    "        print('Completed')\n",
    "        break\n",
    "    last_height = new_height\n",
    "    "
   ]
  },
  {
   "cell_type": "markdown",
   "metadata": {},
   "source": [
    "# GETTING ALL THE REQUIRED INFORMATION"
   ]
  },
  {
   "cell_type": "code",
   "execution_count": 327,
   "metadata": {},
   "outputs": [],
   "source": [
    "\n",
    "makeofacar=driver.find_elements_by_xpath('//h3[@class=\"buyer_variant\"]')\n",
    "        #YOU WILL GET PRICE OF A CAR IN THIS\n",
    "priceofacar=driver.find_elements_by_xpath('//span[@class=\"car_price\"]')\n",
    "        #YOU WILL GET LOCATION OF A CAR\n",
    "locationofacar=driver.find_elements_by_xpath('//span[@class=\"buyer_locations icon_set stock_location b\"]')\n",
    "        #YOU WILL GET THE ENTIRE OTHER DETAILS OF A CAR\n",
    "allist=driver.find_elements_by_xpath('//ul[@class=\"spec-info-list\"]')\n"
   ]
  },
  {
   "cell_type": "code",
   "execution_count": 340,
   "metadata": {},
   "outputs": [],
   "source": [
    "# YOU WILL GET ALL THE DATES\n",
    "alldates=driver.find_elements_by_xpath(\"//a[@class='lnkstockdetail']/h3\")\n",
    "alldates1=[]\n",
    "for i in range(0,len(alldates),2):\n",
    "    #print(alldates[i].text)\n",
    "    alldates1.append(alldates[i].text)"
   ]
  },
  {
   "cell_type": "markdown",
   "metadata": {},
   "source": [
    "# STORING IN THE FINAL LIST"
   ]
  },
  {
   "cell_type": "code",
   "execution_count": 347,
   "metadata": {
    "scrolled": true
   },
   "outputs": [
    {
     "name": "stdout",
     "output_type": "stream",
     "text": [
      "IT ISCOMPLETED\n"
     ]
    }
   ],
   "source": [
    "count=0\n",
    "#for price of a car you have to start from 16....That is the point from where it starts\n",
    "dcount=16\n",
    "finallist=[]\n",
    "while True:\n",
    "    # Scroll down to bottom\n",
    "    try:\n",
    "        newlist=[]\n",
    "        newstr=str(alldates1[count])\n",
    "        year=newstr[0:4]\n",
    "        newlist.append(year)\n",
    "        carname=newstr[5:]\n",
    "        newlist.append(carname)\n",
    "        model=makeofacar[count].text\n",
    "        newlist.append(model)\n",
    "        price=priceofacar[dcount].text\n",
    "        if len(price)==0:\n",
    "            price=\"NO PRICE\"\n",
    "        newlist.append(price)\n",
    "        loc=locationofacar[count].text\n",
    "        newlist.append(loc)\n",
    "        #print(allist[count].text.split('\\n'))\n",
    "        allinone=allist[count].text\n",
    "        infolist=allinone.split('\\n')\n",
    "        count=count+1\n",
    "        dcount=dcount+1\n",
    "        if len(infolist)>4:\n",
    "            kilometer=infolist[0]\n",
    "            newlist.append(kilometer)\n",
    "            typeoffuel=infolist[1]\n",
    "            typeoffuel=str(typeoffuel)\n",
    "            typeoffuel=typeoffuel[0:-1]\n",
    "            typeoffuel1=infolist[2]\n",
    "            typeoffuel1=str(typeoffuel1)\n",
    "            mainfuel=typeoffuel+' '+typeoffuel1\n",
    "            newlist.append(mainfuel)\n",
    "            typeofcar=infolist[3]\n",
    "            newlist.append(typeofcar)\n",
    "            Owner=infolist[4]\n",
    "            newlist.append(Owner)\n",
    "            finallist.append(newlist)\n",
    "            #print(newlist)\n",
    "        else:\n",
    "            #['19,000 Kms', 'Petrol', 'Hatchback', '1st Owner']\n",
    "            kilometer=infolist[0]\n",
    "            newlist.append(kilometer)\n",
    "            typeoffuel=infolist[1]\n",
    "            newlist.append(typeoffuel)\n",
    "            typeofcar=infolist[2]\n",
    "            newlist.append(typeofcar)\n",
    "            Owner=infolist[3]\n",
    "            newlist.append(Owner)\n",
    "            finallist.append(newlist)\n",
    "            #print(newlist)\n",
    "    except IndexError:\n",
    "        print('IT ISCOMPLETED')\n",
    "        break\n",
    "    \n"
   ]
  },
  {
   "cell_type": "code",
   "execution_count": 348,
   "metadata": {},
   "outputs": [
    {
     "name": "stdout",
     "output_type": "stream",
     "text": [
      "831\n"
     ]
    }
   ],
   "source": [
    "print(len(finallist))"
   ]
  },
  {
   "cell_type": "markdown",
   "metadata": {},
   "source": [
    "# ALL 831 CAR DETAILS IS STORED IN THE LIST AND CONVERTING IT TO CSV"
   ]
  },
  {
   "cell_type": "code",
   "execution_count": 349,
   "metadata": {},
   "outputs": [],
   "source": [
    "#NOW YOU HAVE GOT THE FIANL LIST OF 831 CARS IN DELHI\n",
    "import pickle\n",
    "# TO STORE THE DATA FOR FURTHER REFERENCE\n",
    "with open(\"finalnoyo.pkl\",\"wb\") as f:\n",
    "    pickle.dump(finallist,f)"
   ]
  },
  {
   "cell_type": "code",
   "execution_count": 350,
   "metadata": {},
   "outputs": [],
   "source": [
    "#YOU ARE CLOSING THE DRIVER\n",
    "driver.quit()"
   ]
  },
  {
   "cell_type": "code",
   "execution_count": 352,
   "metadata": {},
   "outputs": [],
   "source": [
    "df=pd.DataFrame(finallist,columns=['Year of Car','Make of car','Model','Price of car','Location of car','Kilometers','Diesel/Petrol','Body-type','Owner'])"
   ]
  },
  {
   "cell_type": "code",
   "execution_count": 354,
   "metadata": {},
   "outputs": [
    {
     "data": {
      "text/html": [
       "<div>\n",
       "<style scoped>\n",
       "    .dataframe tbody tr th:only-of-type {\n",
       "        vertical-align: middle;\n",
       "    }\n",
       "\n",
       "    .dataframe tbody tr th {\n",
       "        vertical-align: top;\n",
       "    }\n",
       "\n",
       "    .dataframe thead th {\n",
       "        text-align: right;\n",
       "    }\n",
       "</style>\n",
       "<table border=\"1\" class=\"dataframe\">\n",
       "  <thead>\n",
       "    <tr style=\"text-align: right;\">\n",
       "      <th></th>\n",
       "      <th>Year of Car</th>\n",
       "      <th>Make of car</th>\n",
       "      <th>Model</th>\n",
       "      <th>Price of car</th>\n",
       "      <th>Location of car</th>\n",
       "      <th>Kilometers</th>\n",
       "      <th>Diesel/Petrol</th>\n",
       "      <th>Body-type</th>\n",
       "      <th>Owner</th>\n",
       "    </tr>\n",
       "  </thead>\n",
       "  <tbody>\n",
       "    <tr>\n",
       "      <td>0</td>\n",
       "      <td>2020</td>\n",
       "      <td>Renault</td>\n",
       "      <td>KWID CLIMBER 1.0 AMT</td>\n",
       "      <td>4.9 Lakhs</td>\n",
       "      <td>Delhi</td>\n",
       "      <td>19,000 Kms</td>\n",
       "      <td>Petrol</td>\n",
       "      <td>Hatchback</td>\n",
       "      <td>1st Owner</td>\n",
       "    </tr>\n",
       "    <tr>\n",
       "      <td>1</td>\n",
       "      <td>2019</td>\n",
       "      <td>Renault</td>\n",
       "      <td>KWID RXL</td>\n",
       "      <td>3.65 Lakhs</td>\n",
       "      <td>Faridabad</td>\n",
       "      <td>14,214 Kms</td>\n",
       "      <td>Petrol</td>\n",
       "      <td>Hatchback</td>\n",
       "      <td>1st Owner</td>\n",
       "    </tr>\n",
       "    <tr>\n",
       "      <td>2</td>\n",
       "      <td>2019</td>\n",
       "      <td>Renault</td>\n",
       "      <td>KWID RXL</td>\n",
       "      <td>3.65 Lakhs</td>\n",
       "      <td>Faridabad</td>\n",
       "      <td>14,214 Kms</td>\n",
       "      <td>Petrol</td>\n",
       "      <td>Hatchback</td>\n",
       "      <td>1st Owner</td>\n",
       "    </tr>\n",
       "    <tr>\n",
       "      <td>3</td>\n",
       "      <td>2019</td>\n",
       "      <td>Tata</td>\n",
       "      <td>TIAGO REVOTRON XZ PL...</td>\n",
       "      <td>5.65 Lakhs</td>\n",
       "      <td>Faridabad</td>\n",
       "      <td>9,109 Kms</td>\n",
       "      <td>Petrol</td>\n",
       "      <td>Hatchback</td>\n",
       "      <td>1st Owner</td>\n",
       "    </tr>\n",
       "    <tr>\n",
       "      <td>4</td>\n",
       "      <td>2019</td>\n",
       "      <td>Maruti Suzuki</td>\n",
       "      <td>S PRESSO VXI PLUS</td>\n",
       "      <td>4.5 Lakhs</td>\n",
       "      <td>Ghaziabad</td>\n",
       "      <td>20,200 Kms</td>\n",
       "      <td>Petrol</td>\n",
       "      <td>Hatchback</td>\n",
       "      <td>1st Owner</td>\n",
       "    </tr>\n",
       "    <tr>\n",
       "      <td>...</td>\n",
       "      <td>...</td>\n",
       "      <td>...</td>\n",
       "      <td>...</td>\n",
       "      <td>...</td>\n",
       "      <td>...</td>\n",
       "      <td>...</td>\n",
       "      <td>...</td>\n",
       "      <td>...</td>\n",
       "      <td>...</td>\n",
       "    </tr>\n",
       "    <tr>\n",
       "      <td>195</td>\n",
       "      <td>2018</td>\n",
       "      <td>Toyota</td>\n",
       "      <td>PLATINUM ETIOS VX</td>\n",
       "      <td>6.15 Lakhs</td>\n",
       "      <td>Gurgaon</td>\n",
       "      <td>34,089 Kms</td>\n",
       "      <td>Petrol</td>\n",
       "      <td>Sedan</td>\n",
       "      <td>1st Owner</td>\n",
       "    </tr>\n",
       "    <tr>\n",
       "      <td>196</td>\n",
       "      <td>2017</td>\n",
       "      <td>Hyundai</td>\n",
       "      <td>GRAND I10 SPORTZ 1.1...</td>\n",
       "      <td>4.75 Lakhs</td>\n",
       "      <td>Faridabad</td>\n",
       "      <td>28,147 Kms</td>\n",
       "      <td>Diesel</td>\n",
       "      <td>Hatchback</td>\n",
       "      <td>1st Owner</td>\n",
       "    </tr>\n",
       "    <tr>\n",
       "      <td>197</td>\n",
       "      <td>2018</td>\n",
       "      <td>Mahindra</td>\n",
       "      <td>THAR DI 4WD</td>\n",
       "      <td>9 Lakhs</td>\n",
       "      <td>Delhi</td>\n",
       "      <td>5,915 Kms</td>\n",
       "      <td>Diesel</td>\n",
       "      <td>SUV</td>\n",
       "      <td>1st Owner</td>\n",
       "    </tr>\n",
       "    <tr>\n",
       "      <td>198</td>\n",
       "      <td>2017</td>\n",
       "      <td>Renault</td>\n",
       "      <td>KWID RXT</td>\n",
       "      <td>3.45 Lakhs</td>\n",
       "      <td>Faridabad</td>\n",
       "      <td>24,245 Kms</td>\n",
       "      <td>Petrol</td>\n",
       "      <td>Hatchback</td>\n",
       "      <td>1st Owner</td>\n",
       "    </tr>\n",
       "    <tr>\n",
       "      <td>199</td>\n",
       "      <td>2017</td>\n",
       "      <td>Renault</td>\n",
       "      <td>KWID RXT</td>\n",
       "      <td>3.75 Lakhs</td>\n",
       "      <td>Faridabad</td>\n",
       "      <td>24,245 Kms</td>\n",
       "      <td>Petrol</td>\n",
       "      <td>Hatchback</td>\n",
       "      <td>1st Owner</td>\n",
       "    </tr>\n",
       "  </tbody>\n",
       "</table>\n",
       "<p>200 rows × 9 columns</p>\n",
       "</div>"
      ],
      "text/plain": [
       "    Year of Car    Make of car                    Model Price of car  \\\n",
       "0          2020        Renault     KWID CLIMBER 1.0 AMT    4.9 Lakhs   \n",
       "1          2019        Renault                 KWID RXL   3.65 Lakhs   \n",
       "2          2019        Renault                 KWID RXL   3.65 Lakhs   \n",
       "3          2019           Tata  TIAGO REVOTRON XZ PL...   5.65 Lakhs   \n",
       "4          2019  Maruti Suzuki        S PRESSO VXI PLUS    4.5 Lakhs   \n",
       "..          ...            ...                      ...          ...   \n",
       "195        2018         Toyota        PLATINUM ETIOS VX   6.15 Lakhs   \n",
       "196        2017        Hyundai  GRAND I10 SPORTZ 1.1...   4.75 Lakhs   \n",
       "197        2018       Mahindra              THAR DI 4WD      9 Lakhs   \n",
       "198        2017        Renault                 KWID RXT   3.45 Lakhs   \n",
       "199        2017        Renault                 KWID RXT   3.75 Lakhs   \n",
       "\n",
       "    Location of car  Kilometers Diesel/Petrol  Body-type      Owner  \n",
       "0             Delhi  19,000 Kms        Petrol  Hatchback  1st Owner  \n",
       "1         Faridabad  14,214 Kms        Petrol  Hatchback  1st Owner  \n",
       "2         Faridabad  14,214 Kms        Petrol  Hatchback  1st Owner  \n",
       "3         Faridabad   9,109 Kms        Petrol  Hatchback  1st Owner  \n",
       "4         Ghaziabad  20,200 Kms        Petrol  Hatchback  1st Owner  \n",
       "..              ...         ...           ...        ...        ...  \n",
       "195         Gurgaon  34,089 Kms        Petrol      Sedan  1st Owner  \n",
       "196       Faridabad  28,147 Kms        Diesel  Hatchback  1st Owner  \n",
       "197           Delhi   5,915 Kms        Diesel        SUV  1st Owner  \n",
       "198       Faridabad  24,245 Kms        Petrol  Hatchback  1st Owner  \n",
       "199       Faridabad  24,245 Kms        Petrol  Hatchback  1st Owner  \n",
       "\n",
       "[200 rows x 9 columns]"
      ]
     },
     "execution_count": 354,
     "metadata": {},
     "output_type": "execute_result"
    }
   ],
   "source": [
    "df.head(200)"
   ]
  },
  {
   "cell_type": "markdown",
   "metadata": {},
   "source": [
    "# BY USING APPLY FUNCTION YOU CAN CHANGE ANY OF THE COLUMN"
   ]
  },
  {
   "cell_type": "code",
   "execution_count": 355,
   "metadata": {},
   "outputs": [],
   "source": [
    "#def f(strr):\n",
    "    #return strr\n",
    "#Ex:- df['Model']=df['Model'].apply(f)\n"
   ]
  },
  {
   "cell_type": "code",
   "execution_count": 356,
   "metadata": {},
   "outputs": [],
   "source": [
    "df.to_csv('Noyo Assignment.csv',index = False)"
   ]
  },
  {
   "cell_type": "markdown",
   "metadata": {},
   "source": [
    "# THANK YOU"
   ]
  }
 ],
 "metadata": {
  "kernelspec": {
   "display_name": "Python 3",
   "language": "python",
   "name": "python3"
  },
  "language_info": {
   "codemirror_mode": {
    "name": "ipython",
    "version": 3
   },
   "file_extension": ".py",
   "mimetype": "text/x-python",
   "name": "python",
   "nbconvert_exporter": "python",
   "pygments_lexer": "ipython3",
   "version": "3.7.4"
  }
 },
 "nbformat": 4,
 "nbformat_minor": 2
}
